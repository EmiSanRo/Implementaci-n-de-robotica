{
 "cells": [
  {
   "cell_type": "markdown",
   "metadata": {},
   "source": [
    "Record first video and save"
   ]
  },
  {
   "cell_type": "code",
   "execution_count": 4,
   "metadata": {},
   "outputs": [],
   "source": [
    "import cv2\n",
    "cap=cv2.VideoCapture(0) #Abre la camara\n",
    "#tamaño de la imagen\n",
    "width=int(cap.get(cv2.CAP_PROP_FRAME_WIDTH))\n",
    "height=int(cap.get(cv2.CAP_PROP_FRAME_HEIGHT))\n",
    "writer=cv2.VideoWriter('videitonormalito.mp4',cv2.VideoWriter_fourcc(*'mp4v'),20,(width,height)) #el 20 es a cuantos frames\n",
    "while True:\n",
    "    ret,frame=cap.read()\n",
    "    if cv2.waitKey(1) & 0xFF == ord('q'):\n",
    "        break\n",
    "    writer.write(frame)\n",
    "    cv2.imshow('frame',frame)\n",
    "cap.release()\n",
    "writer.release()\n",
    "cv2.destroyAllWindows()"
   ]
  },
  {
   "cell_type": "markdown",
   "metadata": {},
   "source": [
    "Reverse video and save"
   ]
  },
  {
   "cell_type": "code",
   "execution_count": 5,
   "metadata": {},
   "outputs": [],
   "source": [
    "cap2=cv2.VideoCapture(r\"videitonormalito.mp4\")\n",
    "#obtener frames\n",
    "check, vid = cap2.read()\n",
    "frame_list=[]\n",
    "while(check==True):\n",
    "    check,vid=cap2.read()\n",
    "    frame_list.append(vid)\n",
    "frame_list.pop()\n",
    "frame_list.reverse()\n",
    "writer2=cv2.VideoWriter('videitoreverso.mp4',cv2.VideoWriter_fourcc(*'mp4v'),20,(width,height)) #el 20 es a cuantos frames\n",
    "\n",
    "for frame in frame_list:\n",
    "    writer2.write(frame)\n",
    "    cv2.imshow(\"Frame\", frame)\n",
    "    if cv2.waitKey(1) & 0xFF == ord('q'):\n",
    "        break\n",
    "cap2.release()\n",
    "writer2.release()\n",
    "cv2.destroyAllWindows()"
   ]
  },
  {
   "cell_type": "markdown",
   "metadata": {},
   "source": [
    "Concatenate both videos and save"
   ]
  },
  {
   "cell_type": "code",
   "execution_count": 6,
   "metadata": {},
   "outputs": [],
   "source": [
    "capnat = cv2.VideoCapture(\"videitonormalito.mp4\")\n",
    "caprev = cv2.VideoCapture(\"videitoreverso.mp4\")\n",
    "\n",
    "width = int(capnat.get(cv2.CAP_PROP_FRAME_WIDTH))\n",
    "height = int(capnat.get(cv2.CAP_PROP_FRAME_HEIGHT))\n",
    "\n",
    "writer = cv2.VideoWriter('videocompleto.mp4', cv2.VideoWriter_fourcc(*'mp4v'), 20, (width, height)) # el 20 es a cuantos frames\n",
    "\n",
    "while True:\n",
    "    ret, frame = capnat.read()\n",
    "    if not ret:\n",
    "        break\n",
    "    writer.write(frame)\n",
    "    cv2.imshow('frame', frame)\n",
    "    if cv2.waitKey(1) & 0xFF == ord('q'):\n",
    "        break\n",
    "\n",
    "while True:\n",
    "    ret, frame = caprev.read()\n",
    "    if not ret:\n",
    "        break\n",
    "    writer.write(frame)\n",
    "    cv2.imshow('frame', frame)\n",
    "    if cv2.waitKey(1) & 0xFF == ord('q'):\n",
    "        break\n",
    "\n",
    "capnat.release()\n",
    "caprev.release()\n",
    "writer.release()\n",
    "cv2.destroyAllWindows()"
   ]
  }
 ],
 "metadata": {
  "kernelspec": {
   "display_name": "Python 3",
   "language": "python",
   "name": "python3"
  },
  "language_info": {
   "codemirror_mode": {
    "name": "ipython",
    "version": 3
   },
   "file_extension": ".py",
   "mimetype": "text/x-python",
   "name": "python",
   "nbconvert_exporter": "python",
   "pygments_lexer": "ipython3",
   "version": "3.11.9"
  }
 },
 "nbformat": 4,
 "nbformat_minor": 2
}
